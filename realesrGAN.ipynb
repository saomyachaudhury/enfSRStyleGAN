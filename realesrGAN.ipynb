{
 "cells": [
  {
   "cell_type": "code",
   "execution_count": 1,
   "id": "f0ab7482-1b34-49b4-bd75-063097a1a3ae",
   "metadata": {},
   "outputs": [],
   "source": [
    "import torch\n",
    "import numpy as np\n",
    "from PIL import Image"
   ]
  },
  {
   "cell_type": "code",
   "execution_count": null,
   "id": "d4c9557d-f846-481f-a86a-b966e036c1fd",
   "metadata": {},
   "outputs": [],
   "source": [
    "from basicsr.archs.rrdbnet_arch import RRDBNet"
   ]
  },
  {
   "cell_type": "code",
   "execution_count": null,
   "id": "b3788c9a-f143-4f20-8150-23bdfaa70b5f",
   "metadata": {},
   "outputs": [],
   "source": [
    "from realesrgan import RealESRGANer"
   ]
  },
  {
   "cell_type": "code",
   "execution_count": null,
   "id": "1d5b4361-2f74-42e6-91ef-2acc17183c49",
   "metadata": {},
   "outputs": [],
   "source": [
    "model_path = \"RealESRGAN_x4plus.pth\""
   ]
  },
  {
   "cell_type": "code",
   "execution_count": null,
   "id": "008223ed-25bb-45c3-b626-a5d2714a0581",
   "metadata": {},
   "outputs": [],
   "source": [
    "start_dict = torch.load(model_path, map_location=torch.device(\"cpu\"))[\"params_ema\"]"
   ]
  },
  {
   "cell_type": "code",
   "execution_count": null,
   "id": "da8d172b-77f1-4a74-ac76-b8b20c79d01e",
   "metadata": {},
   "outputs": [],
   "source": [
    "model = RRDBNet(num_in_ch=3, num_out_ch=3, num_feat=64, num_block=23, num_grow_ch=32, scale=4)\n",
    "model.load_state_dict(start_dict, strict=True)"
   ]
  },
  {
   "cell_type": "code",
   "execution_count": null,
   "id": "60395676-951f-4aea-8a57-e7c53ac35f08",
   "metadata": {},
   "outputs": [],
   "source": [
    "upsampler = RealESRGANer(\n",
    "    scale = 4,\n",
    "    model_path=model_path,\n",
    "    model=model,\n",
    "    tile=0,\n",
    "    pre_pad=0,\n",
    "    half=False\n",
    ")"
   ]
  },
  {
   "cell_type": "code",
   "execution_count": null,
   "id": "afd9e9cd-79cd-4a07-88f8-cad1d4026efd",
   "metadata": {},
   "outputs": [],
   "source": [
    "img = Image.open(r\".\\Page2.jpg\").convert(\"RGB\")\n",
    "#img"
   ]
  },
  {
   "cell_type": "code",
   "execution_count": null,
   "id": "de811705-c517-414a-9027-71de3cff0002",
   "metadata": {
    "scrolled": true
   },
   "outputs": [],
   "source": [
    "img_arr = np.array(img)\n",
    "#img_arr"
   ]
  },
  {
   "cell_type": "code",
   "execution_count": null,
   "id": "c6e7cbee-96b7-408c-93f4-9e9c51e2c15d",
   "metadata": {},
   "outputs": [],
   "source": [
    "# Before calling the enhance method, print input details\n",
    "print(\"Original Image Array Shape:\", img_arr.shape)\n",
    "print(\"Enhancement scale:\", 4)\n",
    "\n",
    "# Perform enhancement with verbosity\n",
    "print(\"Starting enhancement...\")\n",
    "output, _ = upsampler.enhance(img_arr, outscale=4)\n",
    "\n",
    "# Print output details after enhancement\n",
    "print(\"Enhancement complete.\")\n",
    "print(\"Output Image Array Shape:\", output.shape)\n",
    "\n",
    "# Convert the enhanced output to an image\n",
    "output_img = Image.fromarray(output)\n",
    "print(\"Converted output to image.\")\n",
    "\n",
    "# Optionally, show the result or save the image\n",
    "# output_img.show()  # Uncomment to display the image\n",
    "# output_img.save(\"enhanced_image.png\")  # Uncomment to save the image"
   ]
  },
  {
   "cell_type": "code",
   "execution_count": null,
   "id": "0c134de5-e0fa-4eac-9ad0-c59479bef34c",
   "metadata": {},
   "outputs": [],
   "source": [
    "# output, _ = upsampler.enhance(img_arr, outscale=1.5)\n",
    "# output_img = Image.fromarray(output)"
   ]
  },
  {
   "cell_type": "code",
   "execution_count": null,
   "id": "59b9d4eb-799c-418c-8564-bfd8f099b4ac",
   "metadata": {},
   "outputs": [],
   "source": [
    "output_img.save(\"mama_ghibli_more_clear.png\")"
   ]
  },
  {
   "cell_type": "code",
   "execution_count": null,
   "id": "971542c6-bf14-4413-8bc3-6791ffb5e998",
   "metadata": {},
   "outputs": [],
   "source": []
  }
 ],
 "metadata": {
  "kernelspec": {
   "display_name": "Python 3 (ipykernel)",
   "language": "python",
   "name": "python3"
  },
  "language_info": {
   "codemirror_mode": {
    "name": "ipython",
    "version": 3
   },
   "file_extension": ".py",
   "mimetype": "text/x-python",
   "name": "python",
   "nbconvert_exporter": "python",
   "pygments_lexer": "ipython3",
   "version": "3.12.8"
  }
 },
 "nbformat": 4,
 "nbformat_minor": 5
}
